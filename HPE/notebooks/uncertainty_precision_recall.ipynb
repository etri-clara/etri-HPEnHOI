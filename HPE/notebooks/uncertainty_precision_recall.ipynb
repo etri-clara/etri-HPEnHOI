{
 "cells": [
  {
   "cell_type": "code",
   "execution_count": 2,
   "metadata": {},
   "outputs": [
    {
     "name": "stderr",
     "output_type": "stream",
     "text": [
      "/home/juju/.local/lib/python3.9/site-packages/tqdm/auto.py:21: TqdmWarning: IProgress not found. Please update jupyter and ipywidgets. See https://ipywidgets.readthedocs.io/en/stable/user_install.html\n",
      "  from .autonotebook import tqdm as notebook_tqdm\n"
     ]
    },
    {
     "name": "stdout",
     "output_type": "stream",
     "text": [
      "/home/juju/juhan_ws/HPE/visualAI-HPE\n"
     ]
    }
   ],
   "source": [
    "import sys, os\n",
    "import os\n",
    "import torch\n",
    "import torchvision.transforms as transforms\n",
    "\n",
    "home_dir = os.path.abspath(os.getcwd()+\"/../../\")\n",
    "print(home_dir)\n",
    "sys.path.append(os.path.join(home_dir, 'lib'))\n",
    "sys.path.append(home_dir)\n",
    "\n",
    "from lib.models.backbones.vit import ViT\n",
    "from lib.models.heads import UncertaintyDeconvDepthWiseChannelHead\n",
    "from lib.models.heads import TopdownHeatmapSimpleHead\n",
    "from lib.dataset.coco import COCODataset\n",
    "from lib.core.config import config\n",
    "from lib.core.config import update_config\n",
    "from lib.models.extra.vit_huge_uncertainty_config import extra\n",
    "\n",
    "from lib.models.uncertainty_pose import UncertaintyPose\n",
    "\n",
    "from lib.utils.vis import display_heatamp, display_keypoints, display_keypoints_with_uncertainty, coco_info\n",
    "import cv2\n",
    "import numpy as np\n",
    "\n",
    "\n",
    "torch.cuda.is_available()\n",
    "\n",
    "update_config(home_dir + '/experiments/coco/vit/vit_huge_uncertainty.yaml')\n"
   ]
  },
  {
   "cell_type": "markdown",
   "metadata": {},
   "source": [
    "## Load dataset"
   ]
  },
  {
   "cell_type": "code",
   "execution_count": 3,
   "metadata": {},
   "outputs": [
    {
     "name": "stdout",
     "output_type": "stream",
     "text": [
      "loading annotations into memory...\n",
      "Done (t=0.14s)\n",
      "creating index...\n",
      "index created!\n",
      "=> num_images: 5000\n",
      "=> load 6352 samples\n"
     ]
    }
   ],
   "source": [
    "config.DATASET.TARGET_KEYPOINT = True\n",
    "config.DATASET.TARGET_HEATMAP = True\n",
    "config.TEST.USE_GT_BBOX = True\n",
    "\n",
    "normalize = transforms.Normalize(\n",
    "    mean=[0.485, 0.456, 0.406], std=[0.229, 0.224, 0.225]\n",
    ")\n",
    "\n",
    "# train_dataset = COCODataset(\n",
    "#     cfg=config, \n",
    "#     root=home_dir + '/data/coco/', \n",
    "#     image_set='train2017', \n",
    "#     is_train=True,\n",
    "#     transform=transforms.Compose(\n",
    "#         [\n",
    "#             transforms.ToTensor(),\n",
    "#         ]\n",
    "#     ),\n",
    "# )\n",
    "\n",
    "# train_loader = torch.utils.data.DataLoader(\n",
    "#     train_dataset,\n",
    "#     batch_size=1,\n",
    "#     shuffle=True,\n",
    "#     num_workers=config.WORKERS,\n",
    "#     pin_memory=True,\n",
    "# )\n",
    "\n",
    "test_dataset = COCODataset(\n",
    "    cfg=config, \n",
    "    root=home_dir + '/data/coco/', \n",
    "    image_set='val2017', \n",
    "    is_train=False,\n",
    "    transform=transforms.Compose(\n",
    "        [\n",
    "            transforms.ToTensor(),\n",
    "        ]\n",
    "    ),\n",
    ")\n",
    "\n",
    "test_loader = torch.utils.data.DataLoader(\n",
    "    test_dataset,\n",
    "    batch_size=64,\n",
    "    shuffle=True,\n",
    "    num_workers=config.WORKERS,\n",
    "    pin_memory=True,\n",
    ")\n",
    "\n"
   ]
  },
  {
   "cell_type": "markdown",
   "metadata": {},
   "source": [
    "## Load model"
   ]
  },
  {
   "cell_type": "code",
   "execution_count": 4,
   "metadata": {},
   "outputs": [],
   "source": [
    "## Backbone - ViT\n",
    "backbone = ViT(\n",
    "    img_size=extra[\"backbone\"][\"img_size\"],\n",
    "    patch_size=extra[\"backbone\"][\"patch_size\"],\n",
    "    embed_dim=extra[\"backbone\"][\"embed_dim\"],\n",
    "    in_channels=3,\n",
    "    num_heads=extra[\"backbone\"][\"num_heads\"],\n",
    "    depth=extra[\"backbone\"][\"depth\"],\n",
    "    qkv_bias=True,\n",
    "    drop_path_rate = extra[\"backbone\"][\"drop_path_rate\"]\n",
    ")\n",
    "\n",
    "## HEAD - Heatmap Simple Head\n",
    "deconv_head = TopdownHeatmapSimpleHead(\n",
    "    in_channels=extra[\"keypoint_head\"][\"in_channels\"],\n",
    "    num_deconv_layers=extra[\"keypoint_head\"][\"num_deconv_layers\"],\n",
    "    num_deconv_filters=extra[\"keypoint_head\"][\"num_deconv_filters\"],\n",
    "    num_deconv_kernels=extra[\"keypoint_head\"][\"num_deconv_kernels\"],\n",
    "    extra=dict(final_conv_kernel=1),\n",
    "    out_channels=17,\n",
    ")\n",
    "\n",
    "## Uncertainty head\n",
    "uncertainty_head = UncertaintyDeconvDepthWiseChannelHead(\n",
    "    extra[\"uncertainty_channel_head\"], norm_cfg=dict(type=\"BN\")\n",
    ")\n",
    "model = UncertaintyPose(backbone, deconv_head, uncertainty_head, config)\n",
    "\n",
    "\n",
    "model.eval()\n",
    "model = model.cuda()"
   ]
  },
  {
   "cell_type": "code",
   "execution_count": 6,
   "metadata": {},
   "outputs": [],
   "source": [
    "from lib.core.inference import post_dark_udp\n",
    "from lib.core.inference import get_final_preds\n",
    "\n",
    "def get_max_preds(heatmaps):\n",
    "    \"\"\"\n",
    "    get predictions from score maps+\n",
    "    heatmaps: numpy.ndarray([batch_size, num_joints, height, width])\n",
    "    \"\"\"\n",
    "    assert isinstance(heatmaps, np.ndarray), \"heatmaps should be numpy.ndarray\"\n",
    "    assert heatmaps.ndim == 4, \"batch_images should be 4-ndim\"\n",
    "    N, K, _, W = heatmaps.shape\n",
    "    heatmaps_reshaped = heatmaps.reshape((N, K, -1))\n",
    "    idx = np.argmax(heatmaps_reshaped, 2).reshape((N, K, 1))\n",
    "    maxvals = np.amax(heatmaps_reshaped, 2).reshape((N, K, 1))\n",
    "\n",
    "    preds = np.tile(idx, (1, 1, 2)).astype(np.float32)\n",
    "    preds[:, :, 0] = preds[:, :, 0] % W\n",
    "    preds[:, :, 1] = preds[:, :, 1] // W\n",
    "\n",
    "    preds = np.where(np.tile(maxvals, (1, 1, 2)) > 0.0, preds, -1)\n",
    "    return preds, maxvals\n"
   ]
  },
  {
   "cell_type": "markdown",
   "metadata": {},
   "source": [
    "## Load model"
   ]
  },
  {
   "cell_type": "code",
   "execution_count": 5,
   "metadata": {},
   "outputs": [
    {
     "name": "stdout",
     "output_type": "stream",
     "text": [
      "checkpoint path :  /home/juju/juhan_ws/HPE/visualAI-HPE/checkpoints/vit_huge_uncertainty_77_1_AP.pth.tar\n",
      "Succesfully init weights..\n",
      "\n"
     ]
    }
   ],
   "source": [
    "checkpoint_path = home_dir + \"/checkpoints/vit_huge_uncertainty_77_1_AP.pth.tar\"\n",
    "model = model.custom_init_weights(model, checkpoint_path)\n",
    "\n",
    "print() "
   ]
  },
  {
   "cell_type": "markdown",
   "metadata": {},
   "source": [
    "## Get uncertainty in COCO2017 test dataset "
   ]
  },
  {
   "cell_type": "code",
   "execution_count": 7,
   "metadata": {},
   "outputs": [],
   "source": [
    "num_samples = len(test_dataset)\n",
    "all_preds = np.zeros((num_samples, config.MODEL.NUM_JOINTS, 3), dtype=np.float32)\n",
    "all_preds_exp = np.zeros((num_samples, config.MODEL.NUM_JOINTS, 3), dtype=np.float32)\n",
    "all_boxes = np.zeros((num_samples, 6))\n",
    "image_path = []\n",
    "filenames = []\n",
    "imgnums = []\n",
    "bbox_ids = []\n",
    "uncertainty_preds=np.zeros((num_samples, config.MODEL.NUM_JOINTS, 1), dtype=np.float32)\n",
    "gt_visibility_flag=np.zeros((num_samples, config.MODEL.NUM_JOINTS, 1), dtype=np.float32)\n",
    "\n",
    "idx = 0\n",
    "soft_plus = torch.nn.Softplus()\n",
    "\n",
    "with torch.no_grad():\n",
    "    # for i, (input, target, target_weight, meta) in enumerate(val_loader):\n",
    "    for i, (input, target, target_weight, heatmap, heatmap_target, meta) in enumerate(\n",
    "        test_loader\n",
    "    ):  \n",
    "        # output_heatmap = model_freeze.forward(input.cuda())\n",
    "        output_heatmap = model.forward(input.cuda())\n",
    "        if config.LOSS.UNCERTAINTY:\n",
    "            pred_keys, uncertainty, output_norm_heatmap, output_heatmap = output_heatmap\n",
    "\n",
    "        uncertainty_map = soft_plus(uncertainty)\n",
    "        if uncertainty.shape[-2:] == output_heatmap.shape[-2:]:\n",
    "            if config.LOSS.USE_INDEXING:\n",
    "                # kp_ = np.round(target.detach().cpu().numpy() / 4)\n",
    "                # keypoint max version\n",
    "                if not config.MODEL.USE_EXP_KP:\n",
    "                    kp_, _ = get_max_preds(output_heatmap.detach().cpu().numpy())\n",
    "                    kp_ = post_dark_udp(kp_, output_heatmap.detach().cpu().numpy(), kernel=11)\n",
    "                    pred_keys = torch.from_numpy(kp_).cuda()\n",
    "                    kp_ = np.round(kp_)\n",
    "                else:\n",
    "                    kp_ = np.round(pred_keys.detach().cpu().numpy())\n",
    "\n",
    "                x = np.clip(kp_[:, :, 0], 0, config.MODEL.HEATMAP_SIZE[0] - 1)\n",
    "                y = np.clip(kp_[:, :, 1], 0, config.MODEL.HEATMAP_SIZE[1] - 1)\n",
    "\n",
    "                # Uncertainty Map has 1 channel\n",
    "                sigma_x = torch.diagonal(\n",
    "                    uncertainty_map[:, 0, y, x], dim1=0, dim2=1\n",
    "                ).permute(1, 0)\n",
    "\n",
    "                uncertainty = torch.cat(\n",
    "                    [sigma_x.unsqueeze(-1), sigma_x.unsqueeze(-1)], dim=-1\n",
    "                )\n",
    "\n",
    "        num_images = input.size(0)\n",
    "\n",
    "        c = meta[\"center\"].numpy()\n",
    "        s = meta[\"scale\"].numpy()\n",
    "        score = meta[\"score\"].numpy()\n",
    "\n",
    "        # Can add adaptive kp prediction /\n",
    "        preds, maxvals = get_final_preds(config, output_heatmap.clone().cpu().numpy(), c, s, 11)\n",
    "        all_preds[idx : idx + num_images, :, 0:2] = preds[:, :, 0:2]\n",
    "        all_preds[idx : idx + num_images, :, 2:3] = maxvals\n",
    "        uncertainty_preds[idx : idx + num_images, :, 0] = uncertainty[:,:,0].cpu().numpy()\n",
    "        gt_visibility_flag[idx : idx + num_images, :, 0] = target_weight\n",
    "        # double check this all_boxes parts\n",
    "        all_boxes[idx : idx + num_images, 0:2] = c[:, 0:2]\n",
    "        all_boxes[idx : idx + num_images, 2:4] = s[:, 0:2]\n",
    "        all_boxes[idx : idx + num_images, 4] = np.prod(s * 200, 1)\n",
    "        all_boxes[idx : idx + num_images, 5] = score\n",
    "\n",
    "        # print(preds[:, :, 0:2].shape, uncertainty[:,:,0].cpu().numpy().shape)\n",
    "        image_path.extend(meta[\"image\"])\n",
    "        bbox_ids.extend(meta[\"bbox_id\"])\n",
    "        idx += num_images\n",
    "\n",
    "        if i % config.PRINT_FREQ == 0:\n",
    "            msg = (\n",
    "                \"Test: [{0}/{1}]\\t\".format(\n",
    "                    i, len(test_loader), \n",
    "                )\n",
    "            )\n"
   ]
  },
  {
   "cell_type": "markdown",
   "metadata": {},
   "source": [
    "### Evaluate accuracy between uncertainty and G.T. visualization flag "
   ]
  },
  {
   "cell_type": "code",
   "execution_count": 8,
   "metadata": {},
   "outputs": [],
   "source": [
    "from copy import deepcopy\n",
    "\n",
    "uncertainty_thresh_0_8_product = (deepcopy(uncertainty_preds) / 0.8).reshape(-1)\n",
    "uncertainty_thresh_0_8_product = np.where(uncertainty_thresh_0_8_product > 1, 0,1)\n",
    "uncertainty_thresh_1_0_product = (deepcopy(uncertainty_preds) / 1.0).reshape(-1)\n",
    "uncertainty_thresh_1_0_product = np.where(uncertainty_thresh_1_0_product > 1, 0,1)\n",
    "uncertainty_thresh_1_2_product = (deepcopy(uncertainty_preds) / 1.2).reshape(-1)\n",
    "uncertainty_thresh_1_2_product = np.where(uncertainty_thresh_1_2_product > 1, 0,1)\n",
    "uncertainty_thresh_1_5_product = (deepcopy(uncertainty_preds) / 1.5).reshape(-1)\n",
    "uncertainty_thresh_1_5_product = np.where(uncertainty_thresh_1_5_product > 1, 0,1)\n",
    "uncertainty_thresh_1_9_product = (deepcopy(uncertainty_preds) / 1.9).reshape(-1)\n",
    "uncertainty_thresh_1_9_product = np.where(uncertainty_thresh_1_9_product > 1, 0,1)\n",
    "uncertainty_thresh_2_0_product = (deepcopy(uncertainty_preds) / 2).reshape(-1)\n",
    "uncertainty_thresh_2_0_product = np.where(uncertainty_thresh_2_0_product > 1, 0,1)\n",
    "uncertainty_thresh_2_5_product = (deepcopy(uncertainty_preds) / 2.5).reshape(-1)\n",
    "uncertainty_thresh_2_5_product = np.where(uncertainty_thresh_2_5_product > 1, 0,1)\n",
    "uncertainty_thresh_3_0_product = (deepcopy(uncertainty_preds) / 3).reshape(-1)\n",
    "uncertainty_thresh_3_0_product = np.where(uncertainty_thresh_3_0_product > 1, 0,1)\n",
    "uncertainty_thresh_5_0_product = (deepcopy(uncertainty_preds) / 5).reshape(-1)\n",
    "uncertainty_thresh_5_0_product = np.where(uncertainty_thresh_5_0_product > 1, 0,1)\n",
    "\n",
    "\n",
    "division_num = 2\n",
    "uncertainty_thresh_1_0 = (deepcopy(uncertainty_preds) / division_num).reshape(-1)\n",
    "uncertainty_thresh_1_0 = np.where(uncertainty_thresh_1_0 >= (1/division_num), 0, 1 - uncertainty_thresh_1_0)\n",
    "uncertainty_thresh_1_2 = (deepcopy(uncertainty_preds) / division_num).reshape(-1)\n",
    "uncertainty_thresh_1_2 = np.where(uncertainty_thresh_1_2 >= (1.2/division_num), 0, 1 - uncertainty_thresh_1_2)\n",
    "uncertainty_thresh_1_5 = (deepcopy(uncertainty_preds) / division_num).reshape(-1)\n",
    "uncertainty_thresh_1_5 = np.where(uncertainty_thresh_1_5 >= (1.5/division_num), 0, 1 - uncertainty_thresh_1_5)\n",
    "uncertainty_thresh_2_0 = (deepcopy(uncertainty_preds) / division_num).reshape(-1)\n",
    "uncertainty_thresh_2_0 = np.where(uncertainty_thresh_2_0 >= (2/division_num), 0, 1- uncertainty_thresh_2_0)\n",
    "uncertainty_thresh_3_0 = (deepcopy(uncertainty_preds) / division_num).reshape(-1)\n",
    "uncertainty_thresh_3_0 = np.where(uncertainty_thresh_3_0 >= 1, 0, 1 - uncertainty_thresh_3_0)\n",
    "uncertainty_thresh_5_0 = (deepcopy(uncertainty_preds) / division_num).reshape(-1)\n",
    "uncertainty_thresh_5_0 = np.where(uncertainty_thresh_5_0 >= (5/division_num), 0, 1 - uncertainty_thresh_5_0)\n",
    "\n",
    "vis_1_non_vis_0 = deepcopy(gt_visibility_flag).reshape(-1)"
   ]
  },
  {
   "cell_type": "code",
   "execution_count": 12,
   "metadata": {},
   "outputs": [
    {
     "name": "stdout",
     "output_type": "stream",
     "text": [
      "0.7860423766483924\n",
      "0.7932564083567936\n",
      "0.7958216032004741\n",
      "0.7969236183138243 best uncertainty threshold 1.5\n",
      "0.7948399762927841\n",
      "0.794154689583642\n",
      "0.7894317676692844\n",
      "0.7822825603793154\n",
      "0.7304230256334272\n"
     ]
    }
   ],
   "source": [
    "print((np.sum(uncertainty_thresh_0_8_product * vis_1_non_vis_0)+ np.sum((uncertainty_thresh_0_8_product+1)%2 * (vis_1_non_vis_0+1)%2) ) / len(vis_1_non_vis_0))\n",
    "print((np.sum(uncertainty_thresh_1_0_product * vis_1_non_vis_0)+ np.sum((uncertainty_thresh_1_0_product+1)%2 * (vis_1_non_vis_0+1)%2) ) / len(vis_1_non_vis_0))\n",
    "print((np.sum(uncertainty_thresh_1_2_product * vis_1_non_vis_0)+ np.sum((uncertainty_thresh_1_2_product+1)%2 * (vis_1_non_vis_0+1)%2) ) / len(vis_1_non_vis_0))\n",
    "print((np.sum(uncertainty_thresh_1_5_product * vis_1_non_vis_0)+ np.sum((uncertainty_thresh_1_5_product+1)%2 * (vis_1_non_vis_0+1)%2) ) / len(vis_1_non_vis_0), \"best uncertainty threshold 1.5\")\n",
    "print((np.sum(uncertainty_thresh_1_9_product * vis_1_non_vis_0)+ np.sum((uncertainty_thresh_1_9_product+1)%2 * (vis_1_non_vis_0+1)%2) ) / len(vis_1_non_vis_0))\n",
    "print((np.sum(uncertainty_thresh_2_0_product * vis_1_non_vis_0)+ np.sum((uncertainty_thresh_2_0_product+1)%2 * (vis_1_non_vis_0+1)%2) ) / len(vis_1_non_vis_0))\n",
    "print((np.sum(uncertainty_thresh_2_5_product * vis_1_non_vis_0)+ np.sum((uncertainty_thresh_2_5_product+1)%2 * (vis_1_non_vis_0+1)%2) ) / len(vis_1_non_vis_0))\n",
    "print((np.sum(uncertainty_thresh_3_0_product * vis_1_non_vis_0)+ np.sum((uncertainty_thresh_3_0_product+1)%2 * (vis_1_non_vis_0+1)%2) ) / len(vis_1_non_vis_0))\n",
    "print((np.sum(uncertainty_thresh_5_0_product * vis_1_non_vis_0)+ np.sum((uncertainty_thresh_5_0_product+1)%2 * (vis_1_non_vis_0+1)%2) ) / len(vis_1_non_vis_0))"
   ]
  },
  {
   "cell_type": "markdown",
   "metadata": {},
   "source": [
    "### Check Precision & Recall in uncertainty \n",
    "\n",
    "uncertainty prediction mAP : 0.8586"
   ]
  },
  {
   "cell_type": "code",
   "execution_count": 16,
   "metadata": {},
   "outputs": [
    {
     "data": {
      "image/png": "[encoded data removed]",
      "text/plain": [
       "<Figure size 640x480 with 1 Axes>"
      ]
     },
     "metadata": {},
     "output_type": "display_data"
    },
    {
     "data": {
      "text/plain": [
       "(0.6317139576233516, 0.8586619406291538)"
      ]
     },
     "execution_count": 16,
     "metadata": {},
     "output_type": "execute_result"
    }
   ],
   "source": [
    "from sklearn.metrics import precision_recall_curve, PrecisionRecallDisplay\n",
    "import matplotlib.pyplot as plt \n",
    "# 정밀도와 재현율 계산\n",
    "precision_1_5, recall_1_5, _ = precision_recall_curve(vis_1_non_vis_0, uncertainty_thresh_1_5)\n",
    "\n",
    "# 정밀도-재현율 곡선 그리기\n",
    "disp = PrecisionRecallDisplay(precision=precision_1_5, recall=recall_1_5)\n",
    "disp.plot()\n",
    "\n",
    "plt.xlabel('Recall',size = 20)\n",
    "plt.ylabel('Precision',size = 20)\n",
    "plt.title('Tune version Precision-Recall Curve threshold 1.5',size=18)\n",
    "plt.show()\n",
    "\n",
    "\n",
    "precision_1_5_mean = np.mean(precision_1_5)\n",
    "\n",
    "precision_1_5[0],np.max(precision_1_5[:-5])"
   ]
  },
  {
   "cell_type": "code",
   "execution_count": null,
   "metadata": {},
   "outputs": [],
   "source": []
  }
 ],
 "metadata": {
  "kernelspec": {
   "display_name": "Python 3 (ipykernel)",
   "language": "python",
   "name": "python3"
  },
  "language_info": {
   "codemirror_mode": {
    "name": "ipython",
    "version": 3
   },
   "file_extension": ".py",
   "mimetype": "text/x-python",
   "name": "python",
   "nbconvert_exporter": "python",
   "pygments_lexer": "ipython3",
   "version": "3.9.18"
  }
 },
 "nbformat": 4,
 "nbformat_minor": 2
}
